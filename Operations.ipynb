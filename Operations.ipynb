{
 "cells": [
  {
   "cell_type": "markdown",
   "id": "37de5a25",
   "metadata": {},
   "source": [
    "# ASSIGNMENT: BASIC MATHEMATICAL OPERATIONS"
   ]
  },
  {
   "cell_type": "markdown",
   "id": "6bedd005",
   "metadata": {},
   "source": [
    "This notebook contains basic mathematical operations."
   ]
  },
  {
   "cell_type": "markdown",
   "id": "99d898c9",
   "metadata": {},
   "source": [
    "Addition"
   ]
  },
  {
   "cell_type": "code",
   "execution_count": 2,
   "id": "ceac9d9f",
   "metadata": {},
   "outputs": [
    {
     "data": {
      "text/plain": [
       "75"
      ]
     },
     "execution_count": 2,
     "metadata": {},
     "output_type": "execute_result"
    }
   ],
   "source": [
    "30 + 45"
   ]
  },
  {
   "cell_type": "markdown",
   "id": "24e78d3c",
   "metadata": {},
   "source": [
    "Subtraction"
   ]
  },
  {
   "cell_type": "code",
   "execution_count": 3,
   "id": "1679791f",
   "metadata": {},
   "outputs": [
    {
     "data": {
      "text/plain": [
       "55"
      ]
     },
     "execution_count": 3,
     "metadata": {},
     "output_type": "execute_result"
    }
   ],
   "source": [
    "75 - 20"
   ]
  },
  {
   "cell_type": "markdown",
   "id": "4b20c050",
   "metadata": {},
   "source": [
    "Division"
   ]
  },
  {
   "cell_type": "code",
   "execution_count": 4,
   "id": "6ba601f4",
   "metadata": {},
   "outputs": [
    {
     "data": {
      "text/plain": [
       "15.0"
      ]
     },
     "execution_count": 4,
     "metadata": {},
     "output_type": "execute_result"
    }
   ],
   "source": [
    "75/5"
   ]
  },
  {
   "cell_type": "markdown",
   "id": "b7e11fea",
   "metadata": {},
   "source": [
    "Multiplication"
   ]
  },
  {
   "cell_type": "code",
   "execution_count": 5,
   "id": "dbb87f2e",
   "metadata": {},
   "outputs": [
    {
     "data": {
      "text/plain": [
       "90"
      ]
     },
     "execution_count": 5,
     "metadata": {},
     "output_type": "execute_result"
    }
   ],
   "source": [
    "45 * 2"
   ]
  },
  {
   "cell_type": "code",
   "execution_count": null,
   "id": "d0a65b38",
   "metadata": {},
   "outputs": [],
   "source": []
  }
 ],
 "metadata": {
  "kernelspec": {
   "display_name": "Python 3",
   "language": "python",
   "name": "python3"
  },
  "language_info": {
   "codemirror_mode": {
    "name": "ipython",
    "version": 3
   },
   "file_extension": ".py",
   "mimetype": "text/x-python",
   "name": "python",
   "nbconvert_exporter": "python",
   "pygments_lexer": "ipython3",
   "version": "3.8.8"
  }
 },
 "nbformat": 4,
 "nbformat_minor": 5
}
